{
 "cells": [
  {
   "cell_type": "code",
   "execution_count": 1,
   "id": "56b7c54d-4eaf-4f63-bff4-d840ab3316e0",
   "metadata": {},
   "outputs": [
    {
     "name": "stdout",
     "output_type": "stream",
     "text": [
      "Fitting 5 folds for each of 24 candidates, totalling 120 fits\n",
      "Mean Absolute Error: 2.07 seconds\n",
      "Best model for Delhi saved as 'delhi_delivery_time_model.pkl'.\n"
     ]
    }
   ],
   "source": [
    "import pandas as pd\n",
    "from sklearn.model_selection import train_test_split, GridSearchCV\n",
    "from sklearn.ensemble import RandomForestRegressor\n",
    "from sklearn.metrics import mean_absolute_error\n",
    "import joblib\n",
    "\n",
    "# Load the combined data\n",
    "df = pd.read_csv(\"combined_delhi_delivery_data.csv\")\n",
    "\n",
    "# Define features and target\n",
    "# Note: 'total_delivery_time' would need to be calculated based on base_delivery_time, traffic_delay, and weather_impact\n",
    "df['total_delivery_time'] = df['distance'] * 120 + df['traffic_delay'] * 60 + (df['distance'] * df['weather_impact'] / 10)\n",
    "X = df.drop(columns=[\"order_id\", \"total_delivery_time\"])\n",
    "y = df[\"total_delivery_time\"]\n",
    "\n",
    "# Split the data\n",
    "X_train, X_test, y_train, y_test = train_test_split(X, y, test_size=0.2, random_state=42)\n",
    "\n",
    "# Use GridSearchCV for better tuning of Random Forest\n",
    "rf_params = {\n",
    "    'n_estimators': [100, 200],\n",
    "    'max_depth': [10, 20, None],\n",
    "    'min_samples_split': [2, 5],\n",
    "    'min_samples_leaf': [1, 2]\n",
    "}\n",
    "rf = RandomForestRegressor(random_state=42)\n",
    "grid_rf = GridSearchCV(rf, rf_params, cv=5, n_jobs=-1, verbose=1)\n",
    "grid_rf.fit(X_train, y_train)\n",
    "\n",
    "# Train the best model found\n",
    "best_rf = grid_rf.best_estimator_\n",
    "best_rf.fit(X_train, y_train)\n",
    "\n",
    "# Predict and evaluate\n",
    "y_pred = best_rf.predict(X_test)\n",
    "mae = mean_absolute_error(y_test, y_pred)\n",
    "print(f\"Mean Absolute Error: {mae:.2f} seconds\")\n",
    "\n",
    "# Save the best model\n",
    "joblib.dump(best_rf, \"delhi_delivery_time_model.pkl\")\n",
    "print(\"Best model for Delhi saved as 'delhi_delivery_time_model.pkl'.\")"
   ]
  }
 ],
 "metadata": {
  "kernelspec": {
   "display_name": "Python (delivery_optimization)",
   "language": "python",
   "name": "your_env_name"
  },
  "language_info": {
   "codemirror_mode": {
    "name": "ipython",
    "version": 3
   },
   "file_extension": ".py",
   "mimetype": "text/x-python",
   "name": "python",
   "nbconvert_exporter": "python",
   "pygments_lexer": "ipython3",
   "version": "3.8.2"
  }
 },
 "nbformat": 4,
 "nbformat_minor": 5
}
