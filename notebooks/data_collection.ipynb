{
 "cells": [
  {
   "cell_type": "code",
   "execution_count": 12,
   "id": "14112494-9207-459c-85ff-076b458aec9a",
   "metadata": {},
   "outputs": [
    {
     "name": "stdout",
     "output_type": "stream",
     "text": [
      "Delivery data generated and saved.\n",
      "Traffic data generated and saved.\n",
      "Weather data generated and saved.\n"
     ]
    }
   ],
   "source": [
    "import pandas as pd\n",
    "import numpy as np\n",
    "from scipy.stats import norm\n",
    "import random\n",
    "\n",
    "# Define New Delhi's geographical boundaries\n",
    "LAT_NORTH, LAT_SOUTH = 28.7041, 28.5135\n",
    "LON_EAST, LON_WEST = 77.3072, 77.0266\n",
    "\n",
    "def generate_delivery_data(n=10000):\n",
    "    delivery_data = []\n",
    "    \n",
    "    for i in range(1, n + 1):\n",
    "        customer_lat = round(random.uniform(LAT_SOUTH, LAT_NORTH), 6)\n",
    "        customer_lon = round(random.uniform(LON_WEST, LON_EAST), 6)\n",
    "        \n",
    "        distance = norm.rvs(loc=5, scale=2, size=1)[0]  # Average distance with variation\n",
    "        distance = round(max(1, distance), 2)  # Minimum 1 km\n",
    "        order_weight = round(np.random.uniform(0.5, 10), 2)  # Weight in kg\n",
    "        \n",
    "        delivery_data.append({\n",
    "            \"order_id\": i,\n",
    "            \"customer_lat\": customer_lat,\n",
    "            \"customer_lon\": customer_lon,\n",
    "            \"distance\": distance,\n",
    "            \"order_weight\": order_weight\n",
    "        })\n",
    "    \n",
    "    return pd.DataFrame(delivery_data)\n",
    "\n",
    "# Generate and save delivery data\n",
    "delivery_df = generate_delivery_data()\n",
    "delivery_df.to_csv(\"simulated_delivery_data.csv\", index=False)\n",
    "print(\"Delivery data generated and saved.\")\n",
    "\n",
    "def generate_traffic_data(n=10000):\n",
    "    traffic_data = []\n",
    "    \n",
    "    for i in range(1, n + 1):\n",
    "        time_of_day = np.random.choice(['Morning', 'Afternoon', 'Evening'], p=[0.3, 0.4, 0.3])\n",
    "        if time_of_day == 'Morning':\n",
    "            traffic_condition = np.random.choice(['Low', 'Medium', 'High'], p=[0.5, 0.3, 0.2])\n",
    "            traffic_delay = {'Low': 5, 'Medium': 10, 'High': 15}[traffic_condition]\n",
    "        elif time_of_day == 'Evening':\n",
    "            traffic_condition = np.random.choice(['Low', 'Medium', 'High'], p=[0.2, 0.4, 0.4])\n",
    "            traffic_delay = {'Low': 10, 'Medium': 20, 'High': 30}[traffic_condition]\n",
    "        else:  # Afternoon\n",
    "            traffic_condition = np.random.choice(['Low', 'Medium'], p=[0.7, 0.3])\n",
    "            traffic_delay = {'Low': 5, 'Medium': 10}[traffic_condition]\n",
    "        \n",
    "        traffic_data.append({\n",
    "            \"order_id\": i,\n",
    "            \"time_of_day\": time_of_day,\n",
    "            \"traffic_condition\": traffic_condition,\n",
    "            \"traffic_delay\": traffic_delay\n",
    "        })\n",
    "    \n",
    "    return pd.DataFrame(traffic_data)\n",
    "\n",
    "# Generate and save traffic data\n",
    "traffic_df = generate_traffic_data()\n",
    "traffic_df.to_csv(\"simulated_traffic_data.csv\", index=False)\n",
    "print(\"Traffic data generated and saved.\")\n",
    "\n",
    "\n",
    "def generate_weather_data(n=10000):\n",
    "    weather_data = []\n",
    "    \n",
    "    for i in range(1, n + 1):\n",
    "        weather_conditions = ['Clear', 'Rainy', 'Foggy', 'Hazy']\n",
    "        weather_condition = np.random.choice(weather_conditions, p=[0.5, 0.25, 0.15, 0.1])\n",
    "        temperature = np.random.randint(5, 45)  # Temperature in Celsius, Delhi's range\n",
    "        weather_impact = {\n",
    "            'Clear': 0,\n",
    "            'Rainy': 15,\n",
    "            'Foggy': 20,\n",
    "            'Hazy': 5\n",
    "        }[weather_condition]\n",
    "        \n",
    "        weather_data.append({\n",
    "            \"order_id\": i,\n",
    "            \"weather_condition\": weather_condition,\n",
    "            \"temperature\": temperature,\n",
    "            \"weather_impact\": weather_impact\n",
    "        })\n",
    "    \n",
    "    return pd.DataFrame(weather_data)\n",
    "\n",
    "# Generate and save weather data\n",
    "weather_df = generate_weather_data()\n",
    "weather_df.to_csv(\"simulated_weather_data.csv\", index=False)\n",
    "print(\"Weather data generated and saved.\")\n",
    "\n"
   ]
  },
  {
   "cell_type": "code",
   "execution_count": 13,
   "id": "36c25a9c-77fa-4a65-8d2e-f81d5dce36cf",
   "metadata": {},
   "outputs": [
    {
     "name": "stdout",
     "output_type": "stream",
     "text": [
      "Combined dataset saved for model training.\n"
     ]
    }
   ],
   "source": [
    "# Load datasets\n",
    "delivery_df = pd.read_csv(\"simulated_delivery_data.csv\")\n",
    "traffic_df = pd.read_csv(\"simulated_traffic_data.csv\")\n",
    "weather_df = pd.read_csv(\"simulated_weather_data.csv\")\n",
    "\n",
    "# Merge datasets\n",
    "merged_df = delivery_df.merge(traffic_df, on=\"order_id\").merge(weather_df, on=\"order_id\")\n",
    "\n",
    "# Feature Engineering\n",
    "merged_df = pd.get_dummies(merged_df, columns=['time_of_day', 'traffic_condition', 'weather_condition'])\n",
    "\n",
    "# Save combined dataset\n",
    "merged_df.to_csv(\"combined_delhi_delivery_data.csv\", index=False)\n",
    "print(\"Combined dataset saved for model training.\")"
   ]
  }
 ],
 "metadata": {
  "kernelspec": {
   "display_name": "Python (delivery_optimization)",
   "language": "python",
   "name": "your_env_name"
  },
  "language_info": {
   "codemirror_mode": {
    "name": "ipython",
    "version": 3
   },
   "file_extension": ".py",
   "mimetype": "text/x-python",
   "name": "python",
   "nbconvert_exporter": "python",
   "pygments_lexer": "ipython3",
   "version": "3.8.2"
  }
 },
 "nbformat": 4,
 "nbformat_minor": 5
}
